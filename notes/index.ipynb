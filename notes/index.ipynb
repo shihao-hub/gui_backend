{
 "cells": [
  {
   "cell_type": "code",
   "execution_count": 21,
   "id": "2bb147cb-0fdf-4d2a-9e5a-40dddfe6c17f",
   "metadata": {},
   "outputs": [],
   "source": [
    "import numpy as np\n",
    "import pandas as pd\n",
    "import seaborn as sns"
   ]
  },
  {
   "cell_type": "code",
   "execution_count": 2,
   "id": "0d178570-7721-4230-b25f-915dba2e0130",
   "metadata": {},
   "outputs": [
    {
     "data": {
      "text/plain": [
       "array([1, 2, 3])"
      ]
     },
     "execution_count": 2,
     "metadata": {},
     "output_type": "execute_result"
    }
   ],
   "source": [
    "np.array([1,2,3])"
   ]
  },
  {
   "cell_type": "code",
   "execution_count": 12,
   "id": "d74b623e-7e84-4955-8864-9d23854871fc",
   "metadata": {},
   "outputs": [
    {
     "name": "stdout",
     "output_type": "stream",
     "text": [
      "[-10.3233177   -2.21390532  -4.85803913   0.6569068    4.47397772\n",
      "  -0.52586578 -10.48570709]\n",
      "[       nan        nan        nan 0.81049787 2.11517794        nan\n",
      "        nan]\n"
     ]
    },
    {
     "name": "stderr",
     "output_type": "stream",
     "text": [
      "C:\\Users\\29580\\AppData\\Local\\Temp\\ipykernel_23104\\1044794502.py:3: RuntimeWarning: invalid value encountered in sqrt\n",
      "  print(np.sqrt(arr))\n"
     ]
    }
   ],
   "source": [
    "arr = np.random.randn(7)*5\n",
    "print(arr)\n",
    "print(np.sqrt(arr))\n",
    "# arr\n",
    "# np.sqrt(arr,arr)\n",
    "# arr"
   ]
  },
  {
   "cell_type": "code",
   "execution_count": 15,
   "id": "4949ce60-d57a-4a4f-8381-521421268689",
   "metadata": {},
   "outputs": [
    {
     "name": "stdout",
     "output_type": "stream",
     "text": [
      "[-3 -3 -3 -3 -3]\n",
      "[4 5 6 7 8]\n"
     ]
    }
   ],
   "source": [
    "arr = np.array([1,2,3,4,5])\n",
    "arr2 = np.array([4,5,6,7,8])\n",
    "print(np.subtract(arr,arr2))\n",
    "print(arr2)"
   ]
  },
  {
   "cell_type": "code",
   "execution_count": 24,
   "id": "53673141-a35f-4f1a-a482-2305fe45c1b4",
   "metadata": {},
   "outputs": [
    {
     "name": "stdout",
     "output_type": "stream",
     "text": [
      "tz\n",
      "a    3\n",
      "b    2\n",
      "c    2\n",
      "Name: count, dtype: int64\n"
     ]
    },
    {
     "data": {
      "text/plain": [
       "<Axes: ylabel='tz'>"
      ]
     },
     "execution_count": 24,
     "metadata": {},
     "output_type": "execute_result"
    },
    {
     "data": {
      "image/png": "[encoded data removed]",
      "text/plain": [
       "<Figure size 640x480 with 1 Axes>"
      ]
     },
     "metadata": {},
     "output_type": "display_data"
    }
   ],
   "source": [
    "records = [\n",
    "    {\"tz\":\"a\"},\n",
    "    {\"tz\":\"a\"},\n",
    "    {\"tz\":\"a\"},\n",
    "\n",
    "    {\"tz\":\"b\"},\n",
    "    {\"tz\":\"b\"},\n",
    "\n",
    "    {\"tz\":\"c\"},\n",
    "    {\"tz\":\"c\"},\n",
    "]\n",
    "frame = pd.DataFrame(records)\n",
    "tz_counts = frame[\"tz\"].value_counts()\n",
    "print(tz_counts)\n",
    "# 柱状图\n",
    "sns.barplot(y=tz_counts.index,x=tz_counts.values)"
   ]
  },
  {
   "cell_type": "code",
   "execution_count": null,
   "id": "95d25773-41c9-4dc4-ac9a-817e86957f81",
   "metadata": {},
   "outputs": [],
   "source": []
  }
 ],
 "metadata": {
  "kernelspec": {
   "display_name": "Python 3 (ipykernel)",
   "language": "python",
   "name": "python3"
  },
  "language_info": {
   "codemirror_mode": {
    "name": "ipython",
    "version": 3
   },
   "file_extension": ".py",
   "mimetype": "text/x-python",
   "name": "python",
   "nbconvert_exporter": "python",
   "pygments_lexer": "ipython3",
   "version": "3.12.3"
  }
 },
 "nbformat": 4,
 "nbformat_minor": 5
}
